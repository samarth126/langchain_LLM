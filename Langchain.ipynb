{
 "cells": [
  {
   "cell_type": "code",
   "execution_count": 20,
   "id": "1967060b",
   "metadata": {},
   "outputs": [],
   "source": [
    "import os\n",
    "import pickle\n",
    "import time\n",
    "import langchain\n",
    "from langchain import OpenAI\n",
    "from langchain.chains import RetrievalQAWithSourcesChain\n",
    "from langchain.chains.qa_with_sources.loading import load_qa_with_sources_chain\n",
    "from langchain.text_splitter import RecursiveCharacterTextSplitter\n",
    "from langchain.document_loaders import UnstructuredURLLoader\n",
    "from langchain.embeddings import OpenAIEmbeddings\n",
    "from langchain.vectorstores import FAISS"
   ]
  },
  {
   "cell_type": "code",
   "execution_count": 1,
   "id": "2874a35d-db28-4a38-8dd8-cdd2d34d62b0",
   "metadata": {},
   "outputs": [
    {
     "name": "stdout",
     "output_type": "stream",
     "text": [
      "hello\n"
     ]
    }
   ],
   "source": [
    "print(\"hello\")"
   ]
  },
  {
   "cell_type": "code",
   "execution_count": 2,
   "id": "8e19fbde-d62b-4519-9d33-427cbe2e4cdb",
   "metadata": {},
   "outputs": [],
   "source": [
    "from langchain.document_loaders import TextLoader"
   ]
  },
  {
   "cell_type": "code",
   "execution_count": 3,
   "id": "42040979-b5da-40e3-88d1-a87918f90550",
   "metadata": {},
   "outputs": [],
   "source": [
    "loader = TextLoader(\"nvda_news_1.txt\")\n",
    "data = loader.load()"
   ]
  },
  {
   "cell_type": "code",
   "execution_count": null,
   "id": "522c8a4f-b9b5-407c-8ad1-417115553378",
   "metadata": {},
   "outputs": [
    {
     "name": "stdout",
     "output_type": "stream",
     "text": [
      "Requirement already satisfied: unstructured in ./myenv/lib/python3.12/site-packages (0.16.15)\n",
      "Requirement already satisfied: libmagic in ./myenv/lib/python3.12/site-packages (1.0)\n",
      "Requirement already satisfied: python-magic in ./myenv/lib/python3.12/site-packages (0.4.27)\n",
      "\u001b[31mERROR: Could not find a version that satisfies the requirement python-magic-bin (from versions: none)\u001b[0m\u001b[31m\n",
      "\u001b[0m\n",
      "\u001b[1m[\u001b[0m\u001b[34;49mnotice\u001b[0m\u001b[1;39;49m]\u001b[0m\u001b[39;49m A new release of pip is available: \u001b[0m\u001b[31;49m24.2\u001b[0m\u001b[39;49m -> \u001b[0m\u001b[32;49m24.3.1\u001b[0m\n",
      "\u001b[1m[\u001b[0m\u001b[34;49mnotice\u001b[0m\u001b[1;39;49m]\u001b[0m\u001b[39;49m To update, run: \u001b[0m\u001b[32;49mpip install --upgrade pip\u001b[0m\n",
      "\u001b[31mERROR: No matching distribution found for python-magic-bin\u001b[0m\u001b[31m\n",
      "\u001b[0m"
     ]
    }
   ],
   "source": [
    "# !pip3 install unstructured libmagic python-magic python-magic-bin"
   ]
  },
  {
   "cell_type": "code",
   "execution_count": 7,
   "id": "29b55d88",
   "metadata": {},
   "outputs": [],
   "source": [
    "from langchain.document_loaders import UnstructuredURLLoader\n",
    "\n",
    "# List of URLs to fetch data from\n",
    "urls = [\n",
    "    \"https://www.moneycontrol.com/news/business/india-committed-to-buy-economically-priced-energy-oil-minister-hardeep-singh-puri-12919144.html\"\n",
    "]\n",
    "\n",
    "loader = UnstructuredURLLoader(urls=urls)\n"
   ]
  },
  {
   "cell_type": "code",
   "execution_count": 8,
   "id": "ca7e56d2",
   "metadata": {},
   "outputs": [
    {
     "data": {
      "text/plain": [
       "Document(metadata={'source': 'https://www.moneycontrol.com/news/business/india-committed-to-buy-economically-priced-energy-oil-minister-hardeep-singh-puri-12919144.html'}, page_content=\"English\\n\\nHindi\\n\\nGujarati\\n\\nSpecials\\n\\nHello, Login\\n\\nHello, Login\\n\\nLog-inor Sign-Up\\n\\nMy Account\\n\\nMy Profile\\n\\nMy Portfolio\\n\\nMy Watchlist\\n\\nMy Alerts\\n\\nMy Messages\\n\\nPrice Alerts\\n\\nMy Profile\\n\\nMy PRO\\n\\nMy Portfolio\\n\\nMy Watchlist\\n\\nMy Alerts\\n\\nMy Messages\\n\\nPrice Alerts\\n\\nLogout\\n\\nLoans up to ₹15 LAKHS\\n\\nFixed Deposits\\n\\nCredit CardsLifetime Free\\n\\nCredit Score\\n\\nChat with Us\\n\\nDownload App\\n\\nFollow us on:\\n\\nGo Ad-Free\\n\\nMy Alerts\\n\\nassociated by\\n\\nBusiness\\n\\nMarkets\\n\\nStocks\\n\\nEconomy\\n\\nCompanies\\n\\nTrends\\n\\nIPO\\n\\nOpinion\\n\\nEV Special\\n\\nHomeNewsBusinessIndia committed to buy economically-priced energy: Oil minister Hardeep Singh Puri\\n\\nTrending Topics\\n\\nQ3 Results 2025 LiveBusiness News LiveDenta Water IPO Allotment StatusIncome tax news liveIndian Rupee\\n\\nIndia committed to buy economically-priced energy: Oil minister Hardeep Singh Puri\\n\\nIndian refiners including IOCL, BPCL and HPCL have been in talks with Russia for finalising crude oil term-deals.\\n\\nShubhangi Mathur & Aishwarya Nair\\n\\nJanuary 25, 2025 / 09:03 IST\\n\\nThe global oil market is expected to witness a supply glut as non-OPEC countries such as the US plan to ramp up production amid declining demand.\\n\\nIndia is committed to buying economically-priced crude oil with government’s priority fixated on making energy available to consumers “at all times”, said minister of petroleum and natural gas Hardeep Singh Puri on January 24.\\n\\nOn being asked about India’s stance on crude oil term-deals with producing countries, Puri said, “We are not committed to buying any quantity from anyone; we are committed to buying the most economically-priced energy of the grade of crude that you (refineries) want.”\\n\\nStory continues below Advertisement\\n\\nRemove Ad\\n\\nIndian refiners including Indian Oil Corporation Limited (IOCL), Bharat Petroleum Corporation Limited (BPCL) and Hindustan Petroleum Corporation Limited (HPCL) have been in talks with Russia for finalising crude oil term-deals. The companies, however, have been unable to conclude a deal with Moscow.\\n\\nWith the US tightening sanctions on Russia, the talks for oil term-deals with Moscow are reportedly put on hold, according to some media reports, with India’s oil imports from the country likely to slump in the coming months. To replace the Russian oil, Indian refiners are securing more oil from its traditional suppliers including Saudi Arabia and Iraq.\\n\\nALSO READ: India’s oil imports from US likely to go up but refiners to evaluate logistics costs, discounts\\n\\nRelated stories\\n\\nIndia’s oil imports from US likely to go up but refiners to evaluate logistics costs, discounts\\n\\nSaudi Crown Prince Mohammed Bin Salman promises $600 billion investment in call with Trump\\n\\nTrump threatens Russia, others with sanctions if Ukraine deal not reached\\n\\nPuri told reporters that the Modi government’s commitment is to “make energy available at all times in the most affordable manner along with transition to green energy.”\\n\\n“Energy is available in abundance supply. More and more crude is coming to the market in spite of the cutbacks that came from some of the producers,” he added.\\n\\nThe global oil market is expected to witness a supply glut as non-OPEC countries such as the US plan to ramp up production amid declining demand.\\n\\nStory continues below Advertisement\\n\\nRemove Ad\\n\\nStory continues below Advertisement\\n\\nRemove Ad\\n\\nIndia’s petrochemical projects\\n\\nGiving an update on Ratnagiri refinery, a planned plant of 60 MMTPA (million metric tonnes per annum) capacity, Puri said the project was unviable on account of its large capacity. The companies would instead build three smaller refineries of capacity around 20-25 MMTPA, he added.\\n\\nIndian refineries were earlier planning to set up a 60 MMTPA refinery in Ratnagiri in Maharashtra, but were unable to execute the project due to issues such as land acquisition.\\n\\n“So I think the position as of now is that instead of one 60 million metric tons per annum, you're looking at possibility of three 20 million metric tons per annum (refineries), and for which discussions are going on,” said Puri.\\n\\nMeanwhile, BPCL is planning to set up a 9 MMTPA refinery in Andhra Pradesh and is currently working on DFR (detailed feasibility report) for the project. Other OMCs such as IOCL and HPCL are also expanding their refining capacities.\\n\\nAmid rising energy demand, India aims to increase its refining capacity to 450 MMTPA by 2030 from around 250 MMTPA currently.\\n\\nALSO READ: Saudi Arabia in talks with BPCL to invest in new refinery, part of $100-bn investment plan\\n\\nShubhangi Mathur\\n\\nAishwarya Nair\\n\\nfirst published: Jan 24, 2025 07:44 pm\\n\\nDiscover the latest Business News, Budget 2025 News, Sensex, and Nifty updates. Obtain Personal Finance insights, tax queries, and expert opinions on Moneycontrol or download the Moneycontrol App to stay updated!\\n\\nAdvertisement\\n\\nRemove Ad\\n\\nAdvertisement\\n\\nRemove Ad\\n\\nAdvertisement\\n\\nRemove Ad\\n\\nAdvertisement\\n\\nRemove Ad\\n\\nTrending news\\n\\n'Being the CFO is the toughest of all': Lenovo India's Meenakshi Dagar on her most challenging role\\n\\nClickbait articles of mutual funds being a scam don't do citizens any service: Radhika Gupta\\n\\n66-million-year-old fish vomit found in Denmark. Picture inside\\n\\nEx-Microsoft HR executive's tip to job seekers before interview: Don’t say ‘I work hard’\\n\\n'How can this be real?': Elon Musk reacts to 1953 German book claiming leader of Mars will be called 'Elon'\\n\\nAdvertisement\\n\\nRemove Ad\\n\\nAdvisory Alert:\\n\\nFollow Us On:\\n\\nStocks: A B C D E F G H I J K L M N O P Q R S T U V W X Y Z Others\\n\\nTrending Topics\\n\\nSensex Today DeepSeek R1 Business News Live Income tax expectations live Budget 2025 News Live Q3 Results Live Breaking News Live Maharashtra Petrol Vehicles Ban Denta Water IPO Allotment Status AIBE Result\\n\\nNews\\n\\nBusiness Budget 2025 Markets Stocks India News Economy Mutual Funds Personal Finance IPO News Startups\\n\\nMarkets\\n\\nHome Currencies Commodities Pre-Market IPO Global Market\\n\\nPersonal Finance\\n\\nHome Loans up to 15 Lakhs Credit Cards Lifetime Free Finance TrackerNew Fixed DepositsNew Fixed Income\\n\\nMutual Funds\\n\\nHome MC 30 Top Ranked Funds ETFs Mutual Fund Screener\\n\\nTools\\n\\nIncome Tax Calculator EMI Calculator Retirement Planning Gratuity Calculator\\n\\nCommunity\\n\\nStock Markets\\n\\nNetwork 18 Sites\\n\\nNews18 Firstpost CNBC TV18 News18 Hindi Cricketnext Overdrive Topper Learning\\n\\nQuick Links\\n\\nAbout Us Contact Us Advisory Alert Advertise with Us SupportDisclaimer Privacy Policy Cookie Policy Terms & Conditions Financial Terms (Glossary) Sitemap Investors\\n\\nDownload MC Apps:\\n\\nCopyright © Network18 Media & Investments Limited. All rights reserved. Reproduction of news articles, photos, videos or any other content in whole or in part in any form or medium without express written permission of moneycontrol.com is prohibited.\\n\\nYou got 30 Day’s Trial of\\n\\nGrab it Now\\n\\nAd-Free Experience\\n\\nTop Articles from Financial Times\\n\\nActionable Insights\\n\\nMC Research\\n\\nEconomic Calendar\\n\\n& Many More\\n\\nYou are already a Moneycontrol Pro user.\\n\\nShubhangi Mathur\")"
      ]
     },
     "execution_count": 8,
     "metadata": {},
     "output_type": "execute_result"
    }
   ],
   "source": [
    "data = loader.load()\n",
    "data[0]"
   ]
  },
  {
   "cell_type": "code",
   "execution_count": 11,
   "id": "ee6e6069",
   "metadata": {},
   "outputs": [],
   "source": [
    "text_splitter = RecursiveCharacterTextSplitter(\n",
    "    chunk_size=1000,\n",
    "    chunk_overlap=200\n",
    ")\n",
    "\n",
    "# As data is of type documents we can directly use split_documents over split_text in order to get the chunks.\n",
    "docs = text_splitter.split_documents(data)"
   ]
  },
  {
   "cell_type": "code",
   "execution_count": 12,
   "id": "5ffa405d",
   "metadata": {},
   "outputs": [
    {
     "data": {
      "text/plain": [
       "9"
      ]
     },
     "execution_count": 12,
     "metadata": {},
     "output_type": "execute_result"
    }
   ],
   "source": [
    "len(docs)"
   ]
  },
  {
   "cell_type": "code",
   "execution_count": 13,
   "id": "8f3bd3ce",
   "metadata": {},
   "outputs": [
    {
     "data": {
      "text/plain": [
       "Document(metadata={'source': 'https://www.moneycontrol.com/news/business/india-committed-to-buy-economically-priced-energy-oil-minister-hardeep-singh-puri-12919144.html'}, page_content='English\\n\\nHindi\\n\\nGujarati\\n\\nSpecials\\n\\nHello, Login\\n\\nHello, Login\\n\\nLog-inor Sign-Up\\n\\nMy Account\\n\\nMy Profile\\n\\nMy Portfolio\\n\\nMy Watchlist\\n\\nMy Alerts\\n\\nMy Messages\\n\\nPrice Alerts\\n\\nMy Profile\\n\\nMy PRO\\n\\nMy Portfolio\\n\\nMy Watchlist\\n\\nMy Alerts\\n\\nMy Messages\\n\\nPrice Alerts\\n\\nLogout\\n\\nLoans up to ₹15 LAKHS\\n\\nFixed Deposits\\n\\nCredit CardsLifetime Free\\n\\nCredit Score\\n\\nChat with Us\\n\\nDownload App\\n\\nFollow us on:\\n\\nGo Ad-Free\\n\\nMy Alerts\\n\\nassociated by\\n\\nBusiness\\n\\nMarkets\\n\\nStocks\\n\\nEconomy\\n\\nCompanies\\n\\nTrends\\n\\nIPO\\n\\nOpinion\\n\\nEV Special\\n\\nHomeNewsBusinessIndia committed to buy economically-priced energy: Oil minister Hardeep Singh Puri\\n\\nTrending Topics\\n\\nQ3 Results 2025 LiveBusiness News LiveDenta Water IPO Allotment StatusIncome tax news liveIndian Rupee\\n\\nIndia committed to buy economically-priced energy: Oil minister Hardeep Singh Puri\\n\\nIndian refiners including IOCL, BPCL and HPCL have been in talks with Russia for finalising crude oil term-deals.\\n\\nShubhangi Mathur & Aishwarya Nair\\n\\nJanuary 25, 2025 / 09:03 IST')"
      ]
     },
     "execution_count": 13,
     "metadata": {},
     "output_type": "execute_result"
    }
   ],
   "source": [
    "docs[0]"
   ]
  },
  {
   "cell_type": "code",
   "execution_count": 23,
   "id": "859264af",
   "metadata": {},
   "outputs": [
    {
     "ename": "ValidationError",
     "evalue": "1 validation error for OpenAIEmbeddings\n  Value error, Did not find openai_api_key, please add an environment variable `OPENAI_API_KEY` which contains it, or pass `openai_api_key` as a named parameter. [type=value_error, input_value={'model_kwargs': {}, 'cli...20, 'http_client': None}, input_type=dict]\n    For further information visit https://errors.pydantic.dev/2.10/v/value_error",
     "output_type": "error",
     "traceback": [
      "\u001b[0;31m---------------------------------------------------------------------------\u001b[0m",
      "\u001b[0;31mValidationError\u001b[0m                           Traceback (most recent call last)",
      "Cell \u001b[0;32mIn[23], line 2\u001b[0m\n\u001b[1;32m      1\u001b[0m \u001b[38;5;66;03m# Create the embeddings of the chunks using openAIEmbeddings\u001b[39;00m\n\u001b[0;32m----> 2\u001b[0m embeddings \u001b[38;5;241m=\u001b[39m \u001b[43mOpenAIEmbeddings\u001b[49m\u001b[43m(\u001b[49m\u001b[43m)\u001b[49m\n\u001b[1;32m      4\u001b[0m \u001b[38;5;66;03m# Pass the documents and embeddings inorder to create FAISS vector index\u001b[39;00m\n\u001b[1;32m      5\u001b[0m vectorindex_openai \u001b[38;5;241m=\u001b[39m FAISS\u001b[38;5;241m.\u001b[39mfrom_documents(docs, embeddings)\n",
      "File \u001b[0;32m~/Desktop/projects/langchain_project/myenv/lib/python3.12/site-packages/langchain_core/_api/deprecation.py:216\u001b[0m, in \u001b[0;36mdeprecated.<locals>.deprecate.<locals>.finalize.<locals>.warn_if_direct_instance\u001b[0;34m(self, *args, **kwargs)\u001b[0m\n\u001b[1;32m    214\u001b[0m     warned \u001b[38;5;241m=\u001b[39m \u001b[38;5;28;01mTrue\u001b[39;00m\n\u001b[1;32m    215\u001b[0m     emit_warning()\n\u001b[0;32m--> 216\u001b[0m \u001b[38;5;28;01mreturn\u001b[39;00m \u001b[43mwrapped\u001b[49m\u001b[43m(\u001b[49m\u001b[38;5;28;43mself\u001b[39;49m\u001b[43m,\u001b[49m\u001b[43m \u001b[49m\u001b[38;5;241;43m*\u001b[39;49m\u001b[43margs\u001b[49m\u001b[43m,\u001b[49m\u001b[43m \u001b[49m\u001b[38;5;241;43m*\u001b[39;49m\u001b[38;5;241;43m*\u001b[39;49m\u001b[43mkwargs\u001b[49m\u001b[43m)\u001b[49m\n",
      "File \u001b[0;32m~/Desktop/projects/langchain_project/myenv/lib/python3.12/site-packages/pydantic/main.py:214\u001b[0m, in \u001b[0;36mBaseModel.__init__\u001b[0;34m(self, **data)\u001b[0m\n\u001b[1;32m    212\u001b[0m \u001b[38;5;66;03m# `__tracebackhide__` tells pytest and some other tools to omit this function from tracebacks\u001b[39;00m\n\u001b[1;32m    213\u001b[0m __tracebackhide__ \u001b[38;5;241m=\u001b[39m \u001b[38;5;28;01mTrue\u001b[39;00m\n\u001b[0;32m--> 214\u001b[0m validated_self \u001b[38;5;241m=\u001b[39m \u001b[38;5;28;43mself\u001b[39;49m\u001b[38;5;241;43m.\u001b[39;49m\u001b[43m__pydantic_validator__\u001b[49m\u001b[38;5;241;43m.\u001b[39;49m\u001b[43mvalidate_python\u001b[49m\u001b[43m(\u001b[49m\u001b[43mdata\u001b[49m\u001b[43m,\u001b[49m\u001b[43m \u001b[49m\u001b[43mself_instance\u001b[49m\u001b[38;5;241;43m=\u001b[39;49m\u001b[38;5;28;43mself\u001b[39;49m\u001b[43m)\u001b[49m\n\u001b[1;32m    215\u001b[0m \u001b[38;5;28;01mif\u001b[39;00m \u001b[38;5;28mself\u001b[39m \u001b[38;5;129;01mis\u001b[39;00m \u001b[38;5;129;01mnot\u001b[39;00m validated_self:\n\u001b[1;32m    216\u001b[0m     warnings\u001b[38;5;241m.\u001b[39mwarn(\n\u001b[1;32m    217\u001b[0m         \u001b[38;5;124m'\u001b[39m\u001b[38;5;124mA custom validator is returning a value other than `self`.\u001b[39m\u001b[38;5;130;01m\\n\u001b[39;00m\u001b[38;5;124m'\u001b[39m\n\u001b[1;32m    218\u001b[0m         \u001b[38;5;124m\"\u001b[39m\u001b[38;5;124mReturning anything other than `self` from a top level model validator isn\u001b[39m\u001b[38;5;124m'\u001b[39m\u001b[38;5;124mt supported when validating via `__init__`.\u001b[39m\u001b[38;5;130;01m\\n\u001b[39;00m\u001b[38;5;124m\"\u001b[39m\n\u001b[1;32m    219\u001b[0m         \u001b[38;5;124m'\u001b[39m\u001b[38;5;124mSee the `model_validator` docs (https://docs.pydantic.dev/latest/concepts/validators/#model-validators) for more details.\u001b[39m\u001b[38;5;124m'\u001b[39m,\n\u001b[1;32m    220\u001b[0m         stacklevel\u001b[38;5;241m=\u001b[39m\u001b[38;5;241m2\u001b[39m,\n\u001b[1;32m    221\u001b[0m     )\n",
      "\u001b[0;31mValidationError\u001b[0m: 1 validation error for OpenAIEmbeddings\n  Value error, Did not find openai_api_key, please add an environment variable `OPENAI_API_KEY` which contains it, or pass `openai_api_key` as a named parameter. [type=value_error, input_value={'model_kwargs': {}, 'cli...20, 'http_client': None}, input_type=dict]\n    For further information visit https://errors.pydantic.dev/2.10/v/value_error"
     ]
    }
   ],
   "source": [
    "# Create the embeddings of the chunks using openAIEmbeddings\n",
    "embeddings = OpenAIEmbeddings()\n",
    "\n",
    "# Pass the documents and embeddings inorder to create FAISS vector index\n",
    "vectorindex_openai = FAISS.from_documents(docs, embeddings)"
   ]
  },
  {
   "cell_type": "code",
   "execution_count": 14,
   "id": "e4f5da3f",
   "metadata": {},
   "outputs": [
    {
     "ename": "NameError",
     "evalue": "name 'vectorindex_openai' is not defined",
     "output_type": "error",
     "traceback": [
      "\u001b[0;31m---------------------------------------------------------------------------\u001b[0m",
      "\u001b[0;31mNameError\u001b[0m                                 Traceback (most recent call last)",
      "Cell \u001b[0;32mIn[14], line 4\u001b[0m\n\u001b[1;32m      2\u001b[0m file_path\u001b[38;5;241m=\u001b[39m\u001b[38;5;124m\"\u001b[39m\u001b[38;5;124mvector_index.pkl\u001b[39m\u001b[38;5;124m\"\u001b[39m\n\u001b[1;32m      3\u001b[0m \u001b[38;5;28;01mwith\u001b[39;00m \u001b[38;5;28mopen\u001b[39m(file_path, \u001b[38;5;124m\"\u001b[39m\u001b[38;5;124mwb\u001b[39m\u001b[38;5;124m\"\u001b[39m) \u001b[38;5;28;01mas\u001b[39;00m f:\n\u001b[0;32m----> 4\u001b[0m     pickle\u001b[38;5;241m.\u001b[39mdump(\u001b[43mvectorindex_openai\u001b[49m, f)\n",
      "\u001b[0;31mNameError\u001b[0m: name 'vectorindex_openai' is not defined"
     ]
    }
   ],
   "source": [
    "# Storing vector index create in local\n",
    "file_path=\"vector_index.pkl\"\n",
    "with open(file_path, \"wb\") as f:\n",
    "    pickle.dump(vectorindex_openai, f)"
   ]
  }
 ],
 "metadata": {
  "kernelspec": {
   "display_name": "myenv",
   "language": "python",
   "name": "python3"
  },
  "language_info": {
   "codemirror_mode": {
    "name": "ipython",
    "version": 3
   },
   "file_extension": ".py",
   "mimetype": "text/x-python",
   "name": "python",
   "nbconvert_exporter": "python",
   "pygments_lexer": "ipython3",
   "version": "3.12.6"
  }
 },
 "nbformat": 4,
 "nbformat_minor": 5
}
